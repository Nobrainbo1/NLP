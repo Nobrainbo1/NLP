{
 "cells": [
  {
   "cell_type": "code",
   "execution_count": 16,
   "metadata": {},
   "outputs": [
    {
     "name": "stderr",
     "output_type": "stream",
     "text": [
      "[nltk_data] Downloading package punkt to\n",
      "[nltk_data]     C:\\Users\\natth\\AppData\\Roaming\\nltk_data...\n",
      "[nltk_data]   Package punkt is already up-to-date!\n"
     ]
    },
    {
     "name": "stdout",
     "output_type": "stream",
     "text": [
      "              precision    recall  f1-score   support\n",
      "\n",
      "         1.0       0.00      0.00      0.00        50\n",
      "         2.0       0.00      0.00      0.00        20\n",
      "         3.0       0.00      0.00      0.00        25\n",
      "         4.0       1.00      0.01      0.02       106\n",
      "         5.0       0.80      1.00      0.89       782\n",
      "\n",
      "    accuracy                           0.80       983\n",
      "   macro avg       0.36      0.20      0.18       983\n",
      "weighted avg       0.74      0.80      0.71       983\n",
      "\n"
     ]
    }
   ],
   "source": [
    "import pandas as pd\n",
    "from sklearn.feature_extraction.text import TfidfVectorizer\n",
    "from sklearn.model_selection import train_test_split\n",
    "from sklearn.naive_bayes import MultinomialNB\n",
    "from sklearn.metrics import classification_report\n",
    "import matplotlib.pyplot as plt\n",
    "import nltk\n",
    "from nltk.tokenize import word_tokenize\n",
    "\n",
    "# Download the punkt tokenizer if not already downloaded\n",
    "nltk.download('punkt')\n",
    "\n",
    "reviews = pd.read_csv(\"amazon_reviews.csv\", encoding='utf-8')\n",
    "selected_reviews = reviews[['reviewText', 'overall']]\n",
    "\n",
    "selected_reviews.loc[:, 'reviewText'] = selected_reviews['reviewText'].fillna('')\n",
    "\n",
    "# Tokenize the text using nltk\n",
    "selected_reviews.loc[:, 'reviewText'] = selected_reviews['reviewText'].apply(word_tokenize)\n",
    "\n",
    "# Join the tokens back into a string for TfidfVectorizer\n",
    "selected_reviews.loc[:, 'reviewText'] = selected_reviews['reviewText'].apply(lambda x: ' '.join(x))\n",
    "\n",
    "vectorizer = TfidfVectorizer()\n",
    "x = vectorizer.fit_transform(selected_reviews['reviewText'])\n",
    "y = selected_reviews['overall']\n",
    "\n",
    "x_train, x_test, y_train, y_test = train_test_split(x, y, test_size=0.2, random_state=42)\n",
    "\n",
    "model = MultinomialNB()\n",
    "model.fit(x_train, y_train)\n",
    "\n",
    "y_pred = model.predict(x_test)\n",
    "\n",
    "print(classification_report(y_test, y_pred, zero_division=0))\n"
   ]
  },
  {
   "cell_type": "code",
   "execution_count": 15,
   "metadata": {},
   "outputs": [
    {
     "name": "stdout",
     "output_type": "stream",
     "text": [
      "The predicted rating for the test review is: 5.0\n"
     ]
    }
   ],
   "source": [
    "# Test the model\n",
    "test_review = \"hate this product\"\n",
    "test_review_vector = vectorizer.transform([test_review])\n",
    "prediction = model.predict(test_review_vector)\n",
    "print(f\"The predicted rating for the test review is: {prediction[0]}\")\n"
   ]
  }
 ],
 "metadata": {
  "kernelspec": {
   "display_name": "nlp",
   "language": "python",
   "name": "python3"
  },
  "language_info": {
   "codemirror_mode": {
    "name": "ipython",
    "version": 3
   },
   "file_extension": ".py",
   "mimetype": "text/x-python",
   "name": "python",
   "nbconvert_exporter": "python",
   "pygments_lexer": "ipython3",
   "version": "3.10.15"
  }
 },
 "nbformat": 4,
 "nbformat_minor": 2
}
